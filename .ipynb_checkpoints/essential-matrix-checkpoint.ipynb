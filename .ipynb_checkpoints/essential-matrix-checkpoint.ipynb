{
 "cells": [
  {
   "cell_type": "code",
   "execution_count": 1,
   "metadata": {},
   "outputs": [],
   "source": [
    "import numpy as np"
   ]
  },
  {
   "cell_type": "code",
   "execution_count": 2,
   "metadata": {},
   "outputs": [],
   "source": [
    "def essential_mat_8pt(u0, K0, u1, K1):\n",
    "    \n",
    "    A = np.zeros((np.size(u0,0),9))\n",
    "    Ea = np.zeros((3,3))\n",
    "    E = np.zeros((3,3))\n",
    "    \n",
    "    for i in range(0,np.size(u0,0)):\n",
    "        \n",
    "        x0 = np.matmul(np.linalg.inv(K0),u0[i])\n",
    "        x1 = np.matmul(np.linalg.inv(K1),u1[i])\n",
    "        \n",
    "        a = np.kron(x1,x0)\n",
    "        A[i,:] = a\n",
    "    \n",
    "    U, S, V = np.linalg.svd(A)\n",
    "    \n",
    "    Ea = np.reshape(V[:,8], (3,3)).T\n",
    "    \n",
    "    Ua, Sa, Va = np.linalg.svd(Ea)\n",
    "    \n",
    "    E = np.matmul(np.matmul(Ua, np.diag([1,1,0])),Va.T)\n",
    "    \n",
    "    return E"
   ]
  },
  {
   "cell_type": "code",
   "execution_count": null,
   "metadata": {},
   "outputs": [],
   "source": []
  }
 ],
 "metadata": {
  "kernelspec": {
   "display_name": "Python 3",
   "language": "python",
   "name": "python3"
  },
  "language_info": {
   "codemirror_mode": {
    "name": "ipython",
    "version": 3
   },
   "file_extension": ".py",
   "mimetype": "text/x-python",
   "name": "python",
   "nbconvert_exporter": "python",
   "pygments_lexer": "ipython3",
   "version": "3.8.5"
  }
 },
 "nbformat": 4,
 "nbformat_minor": 4
}
