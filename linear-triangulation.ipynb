{
 "cells": [
  {
   "cell_type": "code",
   "execution_count": 1,
   "metadata": {},
   "outputs": [],
   "source": [
    "import numpy as np"
   ]
  },
  {
   "cell_type": "code",
   "execution_count": 2,
   "metadata": {},
   "outputs": [],
   "source": [
    "def linear_triangulation(u0, P0, u1, P1):\n",
    "    \n",
    "    X = []\n",
    "    \n",
    "    p1_0 = P0[0]\n",
    "    p2_0 = P0[1]\n",
    "    p3_0 = P0[2]\n",
    "    \n",
    "    p1_1 = P1[0]\n",
    "    p2_1 = P1[1]\n",
    "    p3_1 = P1[2]\n",
    "    \n",
    "    A = np.zeros((4,4))\n",
    "    \n",
    "    for i in range (0,np.size(u0,1)):\n",
    "    \n",
    "        A[0,:] = u0[0,i] * p3_0 - p1_0\n",
    "        A[1,:] = u0[1,i] * p3_0 - p2_0\n",
    "        A[2,:] = u1[0,i] * p3_1 - p1_1\n",
    "        A[3,:] = u1[1,i] * p3_1 - p2_1\n",
    "        \n",
    "        U, S, V = np.linalg.svd(A)\n",
    "        \n",
    "        if(V[-1][0] < 0):\n",
    "            V = -V\n",
    "        \n",
    "        X.append(V[-1])\n",
    "    \n",
    "    return X"
   ]
  },
  {
   "cell_type": "code",
   "execution_count": null,
   "metadata": {},
   "outputs": [],
   "source": []
  }
 ],
 "metadata": {
  "kernelspec": {
   "display_name": "Python 3",
   "language": "python",
   "name": "python3"
  },
  "language_info": {
   "codemirror_mode": {
    "name": "ipython",
    "version": 3
   },
   "file_extension": ".py",
   "mimetype": "text/x-python",
   "name": "python",
   "nbconvert_exporter": "python",
   "pygments_lexer": "ipython3",
   "version": "3.8.5"
  }
 },
 "nbformat": 4,
 "nbformat_minor": 4
}
